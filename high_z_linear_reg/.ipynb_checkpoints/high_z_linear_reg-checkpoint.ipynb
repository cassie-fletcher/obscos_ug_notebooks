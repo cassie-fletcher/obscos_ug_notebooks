{
 "cells": [
  {
   "cell_type": "markdown",
   "id": "8879c2e7",
   "metadata": {},
   "source": [
    "# High-z color versus redshift\n",
    "\n",
    "This is a notebook to compare certain values of flux (ratios of flux are also known as colors) and redshift.  By the end of the notebook, you should be able to make a simple version of Fig. 7 from Reuter+2020 and will hopefully understand:\n",
    "1. How to make a scatter plot with error bars\n",
    "2. How to fit a linear function to data\n",
    "\n",
    "Once we learn how to fit a line, we'll get a little fancier and use the emcee package fit a line (mostly following the emcee tutorial here: https://emcee.readthedocs.io/en/stable/tutorials/line/).  This is absolutely overkill for our purposes, but it will give us a nice way to visualize the uncertainty on our fit, which we are interested in.  "
   ]
  },
  {
   "cell_type": "code",
   "execution_count": 1,
   "id": "d83b0e76",
   "metadata": {},
   "outputs": [
    {
     "name": "stderr",
     "output_type": "stream",
     "text": [
      "Matplotlib created a temporary config/cache directory at /var/folders/45/sgc7fqmn1332vm6vq519l7b00000gt/T/matplotlib-brdzeusq because the default path (/Users/cassiereuter/.matplotlib) is not a writable directory; it is highly recommended to set the MPLCONFIGDIR environment variable to a writable directory, in particular to speed up the import of Matplotlib and to better support multiprocessing.\n"
     ]
    }
   ],
   "source": [
    "# in order to use a python library, you have to import it\n",
    "# this tells the notebook these are the packages you want to use\n",
    "# \n",
    "# these are some basic packages that are generally useful\n",
    "import numpy as np # some basic math functions \n",
    "import pandas as pd # we're going to use this for reading in files\n",
    "import matplotlib.pyplot as plt # for plotting\n",
    "%matplotlib inline"
   ]
  },
  {
   "cell_type": "code",
   "execution_count": 15,
   "id": "db1e2620",
   "metadata": {},
   "outputs": [],
   "source": [
    "# load in our two data sets, SPT and Herschel, using pandas.  \n",
    "# let's start with SPT\n",
    "# csv stands for comma separated values.  commas are typically the \n",
    "# delimiter, which is a fancy to way to say how the values are separated\n",
    "\n",
    "# spt smg photometry has historically been in a file called Flux MasterList\n",
    "# so the name is for historical reasons, honest\n",
    "fml = pd.read_csv('./dndz_tab_d1.txt', delim_whitespace=True,index_col=0, skiprows=[0,2]) \n",
    "\n",
    "# skiprows tells the read_csv function to skip both the 0th and 2nd line from the file (which are just comments \n",
    "# and units) but it's still reading the 1st row as the header, and our columns will have names\n",
    "\n",
    "# delim_whitespace tells the read_csv function how we've separated our values.  in this case, they're separated \n",
    "# by white space (I used more than one tab at times to make it human-readable, so delim_whitespace is super useful)\n",
    "\n",
    "# index col tells the read_csv function what our source names are, which is occasionally useful"
   ]
  },
  {
   "cell_type": "code",
   "execution_count": 16,
   "id": "86039fa6",
   "metadata": {},
   "outputs": [
    {
     "data": {
      "text/html": [
       "<div>\n",
       "<style scoped>\n",
       "    .dataframe tbody tr th:only-of-type {\n",
       "        vertical-align: middle;\n",
       "    }\n",
       "\n",
       "    .dataframe tbody tr th {\n",
       "        vertical-align: top;\n",
       "    }\n",
       "\n",
       "    .dataframe thead th {\n",
       "        text-align: right;\n",
       "    }\n",
       "</style>\n",
       "<table border=\"1\" class=\"dataframe\">\n",
       "  <thead>\n",
       "    <tr style=\"text-align: right;\">\n",
       "      <th></th>\n",
       "      <th>specz</th>\n",
       "      <th>S_3mm</th>\n",
       "      <th>err_3mm</th>\n",
       "      <th>S_2mm</th>\n",
       "      <th>err_2mm</th>\n",
       "      <th>S_1mm</th>\n",
       "      <th>err_1mm</th>\n",
       "      <th>S_870</th>\n",
       "      <th>err_870</th>\n",
       "      <th>S_500</th>\n",
       "      <th>err_500</th>\n",
       "      <th>S_350</th>\n",
       "      <th>err_350</th>\n",
       "      <th>S_250</th>\n",
       "      <th>err_250</th>\n",
       "      <th>S_160</th>\n",
       "      <th>err_160</th>\n",
       "      <th>S_100</th>\n",
       "      <th>err_100</th>\n",
       "    </tr>\n",
       "    <tr>\n",
       "      <th>#Source</th>\n",
       "      <th></th>\n",
       "      <th></th>\n",
       "      <th></th>\n",
       "      <th></th>\n",
       "      <th></th>\n",
       "      <th></th>\n",
       "      <th></th>\n",
       "      <th></th>\n",
       "      <th></th>\n",
       "      <th></th>\n",
       "      <th></th>\n",
       "      <th></th>\n",
       "      <th></th>\n",
       "      <th></th>\n",
       "      <th></th>\n",
       "      <th></th>\n",
       "      <th></th>\n",
       "      <th></th>\n",
       "      <th></th>\n",
       "    </tr>\n",
       "  </thead>\n",
       "  <tbody>\n",
       "    <tr>\n",
       "      <th>SPT0002-52</th>\n",
       "      <td>2.351</td>\n",
       "      <td>0.47</td>\n",
       "      <td>0.03</td>\n",
       "      <td>3.1</td>\n",
       "      <td>0.9</td>\n",
       "      <td>10.7</td>\n",
       "      <td>5.8</td>\n",
       "      <td>50.3</td>\n",
       "      <td>3.8</td>\n",
       "      <td>202.0</td>\n",
       "      <td>10.0</td>\n",
       "      <td>283.5</td>\n",
       "      <td>8.9</td>\n",
       "      <td>332.9</td>\n",
       "      <td>10.1</td>\n",
       "      <td>234.3</td>\n",
       "      <td>21.3</td>\n",
       "      <td>93.9</td>\n",
       "      <td>5.4</td>\n",
       "    </tr>\n",
       "    <tr>\n",
       "      <th>SPT0020-51</th>\n",
       "      <td>4.123</td>\n",
       "      <td>1.25</td>\n",
       "      <td>0.05</td>\n",
       "      <td>6.6</td>\n",
       "      <td>1.4</td>\n",
       "      <td>19.9</td>\n",
       "      <td>4.6</td>\n",
       "      <td>70.5</td>\n",
       "      <td>4.3</td>\n",
       "      <td>144.1</td>\n",
       "      <td>8.6</td>\n",
       "      <td>120.9</td>\n",
       "      <td>7.4</td>\n",
       "      <td>71.5</td>\n",
       "      <td>7.5</td>\n",
       "      <td>NaN</td>\n",
       "      <td>8.7</td>\n",
       "      <td>NaN</td>\n",
       "      <td>2.7</td>\n",
       "    </tr>\n",
       "    <tr>\n",
       "      <th>SPT0027-50</th>\n",
       "      <td>3.444</td>\n",
       "      <td>1.41</td>\n",
       "      <td>0.05</td>\n",
       "      <td>8.6</td>\n",
       "      <td>1.4</td>\n",
       "      <td>35.6</td>\n",
       "      <td>5.1</td>\n",
       "      <td>138.4</td>\n",
       "      <td>8.2</td>\n",
       "      <td>316.1</td>\n",
       "      <td>8.1</td>\n",
       "      <td>325.7</td>\n",
       "      <td>7.2</td>\n",
       "      <td>232.9</td>\n",
       "      <td>6.8</td>\n",
       "      <td>85.6</td>\n",
       "      <td>13.0</td>\n",
       "      <td>15.8</td>\n",
       "      <td>2.3</td>\n",
       "    </tr>\n",
       "    <tr>\n",
       "      <th>SPT0054-41</th>\n",
       "      <td>4.877</td>\n",
       "      <td>1.80</td>\n",
       "      <td>0.06</td>\n",
       "      <td>10.4</td>\n",
       "      <td>1.5</td>\n",
       "      <td>32.5</td>\n",
       "      <td>5.3</td>\n",
       "      <td>98.4</td>\n",
       "      <td>6.5</td>\n",
       "      <td>174.2</td>\n",
       "      <td>10.3</td>\n",
       "      <td>125.9</td>\n",
       "      <td>8.9</td>\n",
       "      <td>79.0</td>\n",
       "      <td>9.3</td>\n",
       "      <td>NaN</td>\n",
       "      <td>NaN</td>\n",
       "      <td>NaN</td>\n",
       "      <td>NaN</td>\n",
       "    </tr>\n",
       "    <tr>\n",
       "      <th>SPT0103-45</th>\n",
       "      <td>3.090</td>\n",
       "      <td>1.46</td>\n",
       "      <td>0.23</td>\n",
       "      <td>8.2</td>\n",
       "      <td>1.5</td>\n",
       "      <td>30.6</td>\n",
       "      <td>5.2</td>\n",
       "      <td>124.5</td>\n",
       "      <td>6.1</td>\n",
       "      <td>231.6</td>\n",
       "      <td>7.6</td>\n",
       "      <td>213.3</td>\n",
       "      <td>6.8</td>\n",
       "      <td>133.2</td>\n",
       "      <td>10.8</td>\n",
       "      <td>NaN</td>\n",
       "      <td>15.7</td>\n",
       "      <td>NaN</td>\n",
       "      <td>4.4</td>\n",
       "    </tr>\n",
       "  </tbody>\n",
       "</table>\n",
       "</div>"
      ],
      "text/plain": [
       "            specz  S_3mm  err_3mm  S_2mm  err_2mm  S_1mm  err_1mm  S_870  \\\n",
       "#Source                                                                    \n",
       "SPT0002-52  2.351   0.47     0.03    3.1      0.9   10.7      5.8   50.3   \n",
       "SPT0020-51  4.123   1.25     0.05    6.6      1.4   19.9      4.6   70.5   \n",
       "SPT0027-50  3.444   1.41     0.05    8.6      1.4   35.6      5.1  138.4   \n",
       "SPT0054-41  4.877   1.80     0.06   10.4      1.5   32.5      5.3   98.4   \n",
       "SPT0103-45  3.090   1.46     0.23    8.2      1.5   30.6      5.2  124.5   \n",
       "\n",
       "            err_870  S_500  err_500  S_350  err_350  S_250  err_250  S_160  \\\n",
       "#Source                                                                      \n",
       "SPT0002-52      3.8  202.0     10.0  283.5      8.9  332.9     10.1  234.3   \n",
       "SPT0020-51      4.3  144.1      8.6  120.9      7.4   71.5      7.5    NaN   \n",
       "SPT0027-50      8.2  316.1      8.1  325.7      7.2  232.9      6.8   85.6   \n",
       "SPT0054-41      6.5  174.2     10.3  125.9      8.9   79.0      9.3    NaN   \n",
       "SPT0103-45      6.1  231.6      7.6  213.3      6.8  133.2     10.8    NaN   \n",
       "\n",
       "            err_160  S_100  err_100  \n",
       "#Source                              \n",
       "SPT0002-52     21.3   93.9      5.4  \n",
       "SPT0020-51      8.7    NaN      2.7  \n",
       "SPT0027-50     13.0   15.8      2.3  \n",
       "SPT0054-41      NaN    NaN      NaN  \n",
       "SPT0103-45     15.7    NaN      4.4  "
      ]
     },
     "execution_count": 16,
     "metadata": {},
     "output_type": "execute_result"
    }
   ],
   "source": [
    "# let's take a minute and look at the structure of this thing we read in\n",
    "# we will use the head method to look at the first 5 columns, and check if they match the text file\n",
    "fml.head(5)"
   ]
  },
  {
   "cell_type": "markdown",
   "id": "0cc019ab",
   "metadata": {},
   "source": [
    "Cool, this looks like our file.  Now let's practice a bit with pandas.  \n",
    "\n",
    "Write a command that will get all $S_{870 um}$ values (your answer should be an array)"
   ]
  },
  {
   "cell_type": "code",
   "execution_count": 17,
   "id": "bc4a1c17",
   "metadata": {},
   "outputs": [
    {
     "data": {
      "text/plain": [
       "array([ 50.3,  70.5, 138.4,  98.4, 124.5, 145.3, 109.2,  36.1,  79.4,\n",
       "       143.5, 109. ,  68.7,  83.3,  62.7, 174.2, 109.4,  66.3,  84.5,\n",
       "        61.2,  56.8,  36.9, 104.1,  67.1,  89.2, 130.8,  51.5, 199.9,\n",
       "        39.5, 108.4,  60.3,  74.6,  79.8,  42.8,  25.5,  52.6,  61.4,\n",
       "        75. ,  33.2,  56. ,  27.4, 118.3, 117.5, 125.2,  86.9,  53. ,\n",
       "       138.7,  74. ,  48.3,  43.3,  55.8, 150.3,  65.2, 125.2, 172.1,\n",
       "        64.5, 131.3,  54.1,  61.9,  77.5,  87.4,  57.9, 101.2,  54.5,\n",
       "        61.3,  96.5,  63.2,  60.2,  59.7,  44.1,  30.5,  38.1, 168. ,\n",
       "        35.6,  34.2,  42.6,  37.3,  56.5,  34.6,  40.6,  66. ,  53.4])"
      ]
     },
     "execution_count": 17,
     "metadata": {},
     "output_type": "execute_result"
    }
   ],
   "source": [
    "fml['S_870'].values"
   ]
  },
  {
   "cell_type": "markdown",
   "id": "830fdeaa",
   "metadata": {},
   "source": [
    "Now write a command that will get all the photometry for SPT0054-41"
   ]
  },
  {
   "cell_type": "code",
   "execution_count": 19,
   "id": "a023e79a",
   "metadata": {},
   "outputs": [
    {
     "data": {
      "text/plain": [
       "specz        4.877\n",
       "S_3mm        1.800\n",
       "err_3mm      0.060\n",
       "S_2mm       10.400\n",
       "err_2mm      1.500\n",
       "S_1mm       32.500\n",
       "err_1mm      5.300\n",
       "S_870       98.400\n",
       "err_870      6.500\n",
       "S_500      174.200\n",
       "err_500     10.300\n",
       "S_350      125.900\n",
       "err_350      8.900\n",
       "S_250       79.000\n",
       "err_250      9.300\n",
       "S_160          NaN\n",
       "err_160        NaN\n",
       "S_100          NaN\n",
       "err_100        NaN\n",
       "Name: SPT0054-41, dtype: float64"
      ]
     },
     "execution_count": 19,
     "metadata": {},
     "output_type": "execute_result"
    }
   ],
   "source": [
    "fml.loc['SPT0054-41']"
   ]
  },
  {
   "cell_type": "markdown",
   "id": "9837dcf6",
   "metadata": {},
   "source": [
    "Now, what is the flux at 500 um for SPT0054-41?  \n",
    "\n",
    "Write some python that will answer the question for you.  "
   ]
  },
  {
   "cell_type": "code",
   "execution_count": 20,
   "id": "4b391f0e",
   "metadata": {},
   "outputs": [
    {
     "data": {
      "text/plain": [
       "174.2"
      ]
     },
     "execution_count": 20,
     "metadata": {},
     "output_type": "execute_result"
    }
   ],
   "source": [
    "fml.loc['SPT0054-41', 'S_500']"
   ]
  },
  {
   "cell_type": "markdown",
   "id": "1fedfb28",
   "metadata": {},
   "source": [
    "Now let's make a quick plot of 350 um flux versus redshift (which is in the specz column here).  Use matplotlib's errorbar function to draw error bars on your points and change your y-axis to logscale.\n",
    "\n",
    "Don't forget to label your axes!"
   ]
  },
  {
   "cell_type": "code",
   "execution_count": 26,
   "id": "4d62c15f",
   "metadata": {},
   "outputs": [
    {
     "data": {
      "text/plain": [
       "Text(0, 0.5, 'S$_{350 um}$ [mJy]')"
      ]
     },
     "execution_count": 26,
     "metadata": {},
     "output_type": "execute_result"
    },
    {
     "data": {
      "image/png": "[encoded data removed]",
      "text/plain": [
       "<Figure size 432x288 with 1 Axes>"
      ]
     },
     "metadata": {
      "needs_background": "light"
     },
     "output_type": "display_data"
    }
   ],
   "source": [
    "fig = plt.figure()\n",
    "plt.errorbar(fml['specz'].values, fml['S_350'].values, yerr=fml['err_350'], ls='none', marker='o')\n",
    "plt.yscale('log')\n",
    "plt.xlabel(r'z$_{spec}$')\n",
    "plt.ylabel(r'S$_{350 um}$ [mJy]')"
   ]
  },
  {
   "cell_type": "code",
   "execution_count": 40,
   "id": "5471dcd5",
   "metadata": {},
   "outputs": [],
   "source": [
    "# Let's do the same thing for Herschel.  \n",
    "\n",
    "# we can open this file up in your favorite text editor and see that first line is the header,\n",
    "# and the delimiter is a comma\n",
    "\n",
    "# write a pandas command that will read the herschel file\n",
    "spire = pd.read_csv('./photometry_published_lensed_spire.txt', sep=',', index_col=0, comment='##', header=0)"
   ]
  },
  {
   "cell_type": "code",
   "execution_count": 41,
   "id": "1847dd91",
   "metadata": {},
   "outputs": [
    {
     "data": {
      "text/html": [
       "<div>\n",
       "<style scoped>\n",
       "    .dataframe tbody tr th:only-of-type {\n",
       "        vertical-align: middle;\n",
       "    }\n",
       "\n",
       "    .dataframe tbody tr th {\n",
       "        vertical-align: top;\n",
       "    }\n",
       "\n",
       "    .dataframe thead th {\n",
       "        text-align: right;\n",
       "    }\n",
       "</style>\n",
       "<table border=\"1\" class=\"dataframe\">\n",
       "  <thead>\n",
       "    <tr style=\"text-align: right;\">\n",
       "      <th></th>\n",
       "      <th>1.577</th>\n",
       "      <th>208</th>\n",
       "      <th>34</th>\n",
       "      <th>416</th>\n",
       "      <th>94</th>\n",
       "      <th>471</th>\n",
       "      <th>7</th>\n",
       "      <th>343</th>\n",
       "      <th>8</th>\n",
       "      <th>181</th>\n",
       "      <th>9</th>\n",
       "      <th>24.8</th>\n",
       "      <th>3.3</th>\n",
       "      <th>6.9</th>\n",
       "      <th>1.2</th>\n",
       "      <th>Negrello2010</th>\n",
       "    </tr>\n",
       "    <tr>\n",
       "      <th>SDP9</th>\n",
       "      <th></th>\n",
       "      <th></th>\n",
       "      <th></th>\n",
       "      <th></th>\n",
       "      <th></th>\n",
       "      <th></th>\n",
       "      <th></th>\n",
       "      <th></th>\n",
       "      <th></th>\n",
       "      <th></th>\n",
       "      <th></th>\n",
       "      <th></th>\n",
       "      <th></th>\n",
       "      <th></th>\n",
       "      <th></th>\n",
       "      <th></th>\n",
       "    </tr>\n",
       "  </thead>\n",
       "  <tbody>\n",
       "    <tr>\n",
       "      <th>SDP11</th>\n",
       "      <td>1.7860</td>\n",
       "      <td>NaN</td>\n",
       "      <td>NaN</td>\n",
       "      <td>397.0</td>\n",
       "      <td>90.0</td>\n",
       "      <td>417.0</td>\n",
       "      <td>6.0</td>\n",
       "      <td>378.0</td>\n",
       "      <td>7.0</td>\n",
       "      <td>232.0</td>\n",
       "      <td>8.0</td>\n",
       "      <td>29.2</td>\n",
       "      <td>2.7</td>\n",
       "      <td>12.2</td>\n",
       "      <td>1.2</td>\n",
       "      <td>Negrello2010</td>\n",
       "    </tr>\n",
       "    <tr>\n",
       "      <th>SDP17</th>\n",
       "      <td>2.3051</td>\n",
       "      <td>NaN</td>\n",
       "      <td>NaN</td>\n",
       "      <td>182.0</td>\n",
       "      <td>56.0</td>\n",
       "      <td>347.0</td>\n",
       "      <td>7.0</td>\n",
       "      <td>339.0</td>\n",
       "      <td>8.0</td>\n",
       "      <td>219.0</td>\n",
       "      <td>9.0</td>\n",
       "      <td>56.6</td>\n",
       "      <td>4.1</td>\n",
       "      <td>15.3</td>\n",
       "      <td>1.3</td>\n",
       "      <td>Omont2011</td>\n",
       "    </tr>\n",
       "    <tr>\n",
       "      <th>SDP81</th>\n",
       "      <td>3.0420</td>\n",
       "      <td>NaN</td>\n",
       "      <td>NaN</td>\n",
       "      <td>NaN</td>\n",
       "      <td>NaN</td>\n",
       "      <td>138.0</td>\n",
       "      <td>7.0</td>\n",
       "      <td>199.0</td>\n",
       "      <td>8.0</td>\n",
       "      <td>174.0</td>\n",
       "      <td>9.0</td>\n",
       "      <td>76.4</td>\n",
       "      <td>3.8</td>\n",
       "      <td>19.6</td>\n",
       "      <td>0.9</td>\n",
       "      <td>Negrello2010</td>\n",
       "    </tr>\n",
       "    <tr>\n",
       "      <th>SDP130</th>\n",
       "      <td>2.6256</td>\n",
       "      <td>NaN</td>\n",
       "      <td>NaN</td>\n",
       "      <td>NaN</td>\n",
       "      <td>NaN</td>\n",
       "      <td>116.0</td>\n",
       "      <td>6.0</td>\n",
       "      <td>140.0</td>\n",
       "      <td>7.0</td>\n",
       "      <td>108.0</td>\n",
       "      <td>8.0</td>\n",
       "      <td>39.3</td>\n",
       "      <td>2.3</td>\n",
       "      <td>11.2</td>\n",
       "      <td>1.2</td>\n",
       "      <td>Negrello2010</td>\n",
       "    </tr>\n",
       "    <tr>\n",
       "      <th>SDP141</th>\n",
       "      <td>4.2430</td>\n",
       "      <td>NaN</td>\n",
       "      <td>NaN</td>\n",
       "      <td>NaN</td>\n",
       "      <td>NaN</td>\n",
       "      <td>115.0</td>\n",
       "      <td>7.0</td>\n",
       "      <td>192.0</td>\n",
       "      <td>8.0</td>\n",
       "      <td>203.0</td>\n",
       "      <td>9.0</td>\n",
       "      <td>90.0</td>\n",
       "      <td>5.0</td>\n",
       "      <td>36.0</td>\n",
       "      <td>2.0</td>\n",
       "      <td>Cox2011</td>\n",
       "    </tr>\n",
       "  </tbody>\n",
       "</table>\n",
       "</div>"
      ],
      "text/plain": [
       "         1.577  208  34    416    94    471    7    343    8    181    9  \\\n",
       "SDP9                                                                       \n",
       "SDP11   1.7860  NaN NaN  397.0  90.0  417.0  6.0  378.0  7.0  232.0  8.0   \n",
       "SDP17   2.3051  NaN NaN  182.0  56.0  347.0  7.0  339.0  8.0  219.0  9.0   \n",
       "SDP81   3.0420  NaN NaN    NaN   NaN  138.0  7.0  199.0  8.0  174.0  9.0   \n",
       "SDP130  2.6256  NaN NaN    NaN   NaN  116.0  6.0  140.0  7.0  108.0  8.0   \n",
       "SDP141  4.2430  NaN NaN    NaN   NaN  115.0  7.0  192.0  8.0  203.0  9.0   \n",
       "\n",
       "        24.8  3.3   6.9  1.2  Negrello2010  \n",
       "SDP9                                        \n",
       "SDP11   29.2  2.7  12.2  1.2  Negrello2010  \n",
       "SDP17   56.6  4.1  15.3  1.3     Omont2011  \n",
       "SDP81   76.4  3.8  19.6  0.9  Negrello2010  \n",
       "SDP130  39.3  2.3  11.2  1.2  Negrello2010  \n",
       "SDP141  90.0  5.0  36.0  2.0       Cox2011  "
      ]
     },
     "execution_count": 41,
     "metadata": {},
     "output_type": "execute_result"
    }
   ],
   "source": [
    "# take a minute to confirm you did this correctly\n",
    "spire.head(5)"
   ]
  },
  {
   "cell_type": "markdown",
   "id": "b9c0aee7",
   "metadata": {},
   "source": [
    "What are the names of the each of the Herschel sources?\n",
    "\n",
    "Write some python code that will give the answer.  "
   ]
  },
  {
   "cell_type": "code",
   "execution_count": 35,
   "id": "fe470013",
   "metadata": {},
   "outputs": [
    {
     "data": {
      "text/plain": [
       "Index(['SDP9', 'SDP11', 'SDP17', 'SDP81', 'SDP130', 'SDP141', 'HLock01',\n",
       "       'Eyelash', 'Bullet', 'HLS', 'Planck', '#Mike', 'HBootes01', 'HBootes02',\n",
       "       'HBootes03', 'HLock03', '#HLock05', 'HXMM01', 'HXMM02', 'HXMM05',\n",
       "       '#HXMM11', 'FLS3', 'G09v1.97', 'G09v1.124', 'G09v1.40', 'G09v1.326',\n",
       "       'G12v2.43', 'G12v2.30', 'NCv1.268', 'NCv1.143', 'NBv1.43', 'NAv1.195',\n",
       "       'NAv1.177', 'NBv1.78', 'NAv1.144', 'NAv1.56', 'G15v2.235',\n",
       "       '#HATLAS_J1429'],\n",
       "      dtype='object', name='#ID')"
      ]
     },
     "execution_count": 35,
     "metadata": {},
     "output_type": "execute_result"
    }
   ],
   "source": [
    "spire.index"
   ]
  },
  {
   "cell_type": "markdown",
   "id": "cddced8c",
   "metadata": {},
   "source": [
    "from the comments of the file, we know the relevant columns are:\n",
    "(1): wavelength in angstrom\n",
    "(5): MCs emission\n",
    "the MC is a monte carlo that gives the luminosity, which the comments say is in 1e30 erg/s/A\n",
    " \n",
    "We would like to plot with units of mJy versus um, so we will have to do some conversions"
   ]
  },
  {
   "cell_type": "code",
   "execution_count": 30,
   "id": "3240e4a5",
   "metadata": {},
   "outputs": [
    {
     "name": "stdout",
     "output_type": "stream",
     "text": [
      "the length of this file is:  413\n"
     ]
    }
   ],
   "source": [
    "# convert the first column (wavelength in angstrom) to um and give the answer as an array\n",
    "um_arp220 = arp220[:][0].values/1e4"
   ]
  },
  {
   "cell_type": "code",
   "execution_count": 61,
   "id": "f2ca80cf",
   "metadata": {
    "collapsed": true
   },
   "outputs": [],
   "source": [
    "# convert the units of the 5th column (MCs emission) from erg/s/A to mJy\n",
    "# that is, convert F_lambda to F_nu\n",
    "lum_arp220 = arp220[:][5].values\n",
    "mjy_arp220 = lum_arp220*um_arp220*um_arp220*1e-23*1000.\n",
    "mjy_arp220 = mjy_arp220/max(mjy_arp220)*100. # idk why J did this but w/e this gives the right units"
   ]
  },
  {
   "cell_type": "code",
   "execution_count": 62,
   "id": "987ab8e0",
   "metadata": {},
   "outputs": [
    {
     "data": {
      "text/plain": [
       "Text(0,0.5,'S$_{\\\\nu}$ [mJy]')"
      ]
     },
     "execution_count": 62,
     "metadata": {},
     "output_type": "execute_result"
    },
    {
     "data": {
      "image/png": "[encoded data removed]",
      "text/plain": [
       "<matplotlib.figure.Figure at 0x7fc7128ce470>"
      ]
     },
     "metadata": {},
     "output_type": "display_data"
    }
   ],
   "source": [
    "# plot your answers here, and remember to label your axes!\n",
    "plt.plot(um_arp220, mjy_arp220,color='k', label='Arp220, z=0')\n",
    "plt.xscale('log'); plt.yscale('log')\n",
    "plt.xlabel('$\\\\lambda$ [$\\\\mu m$]')\n",
    "plt.ylabel('S$_{\\\\nu}$ [mJy]')"
   ]
  },
  {
   "cell_type": "markdown",
   "id": "8982fae0",
   "metadata": {},
   "source": [
    "Congratulations, you just plotted your first SED!  Arp220 is a galaxy in our local Universe, so it has a cosmological redshift (also simply called redshift or z) of zero.  \n",
    "\n",
    "What happens if we fix luminosity and observe at z=1?  That is, we are still looking at Arp220, but it is now much further away.  Take some image and think about how this SED will change.  \n",
    "\n",
    "If you would like more information about cosmological redshift, [COSMOS](https://astronomy.swin.edu.au/cosmos/c/cosmological+redshift) has a pretty good explanation.  "
   ]
  },
  {
   "cell_type": "code",
   "execution_count": 63,
   "id": "828f64af",
   "metadata": {},
   "outputs": [
    {
     "data": {
      "text/plain": [
       "Text(0,0.5,'S$_{\\\\nu}$ [mJy]')"
      ]
     },
     "execution_count": 63,
     "metadata": {},
     "output_type": "execute_result"
    },
    {
     "data": {
      "image/png": "[encoded data removed]",
      "text/plain": [
       "<matplotlib.figure.Figure at 0x7fc721f957b8>"
      ]
     },
     "metadata": {},
     "output_type": "display_data"
    }
   ],
   "source": [
    "from astropy.cosmology import WMAP9\n",
    "z = 1.\n",
    "plt.plot(um_arp220, mjy_arp220,color='k', label='z=0')\n",
    "plt.plot(um_arp220*(1.+z), mjy_arp220,color='r', label='z=1')\n",
    "plt.legend()\n",
    "plt.xscale('log'); plt.yscale('log')\n",
    "plt.xlabel('$\\\\lambda$ [$\\\\mu m$]')\n",
    "plt.ylabel('S$_{\\\\nu}$ [mJy]')"
   ]
  },
  {
   "cell_type": "markdown",
   "id": "5edb6a98",
   "metadata": {},
   "source": [
    "There is another effect that also happens, which is that as you move something further away, it gets dimmer.  Recall how your apparent brightness, F relates to distance: \n",
    "\n",
    "$F = L / 4 \\pi r^2$\n",
    "\n",
    "where L is your luminosity and r is your distance from the source.  "
   ]
  },
  {
   "cell_type": "code",
   "execution_count": 64,
   "id": "d61d1cbf",
   "metadata": {},
   "outputs": [
    {
     "data": {
      "text/plain": [
       "Text(0,0.5,'S$_{\\\\nu}$ [mJy]')"
      ]
     },
     "execution_count": 64,
     "metadata": {},
     "output_type": "execute_result"
    },
    {
     "data": {
      "image/png": "[encoded data removed]",
      "text/plain": [
       "<matplotlib.figure.Figure at 0x7fc722138128>"
      ]
     },
     "metadata": {},
     "output_type": "display_data"
    }
   ],
   "source": [
    "# now adjust your code to take this dimming into account, assuming that your first SED is at some small redshift (z=0.01)\n",
    "z = 1.\n",
    "zcom = 0.01; DLcom = WMAP9.luminosity_distance(0.01)\n",
    "dim_arp220 = (WMAP9.luminosity_distance(z).value/DLcom)**2. * ((1+zcom)/(1.+z))\n",
    "plt.plot(um_arp220*(1.01), mjy_arp220,color='k', label='z=0.01')\n",
    "plt.plot(um_arp220*(1.+z), mjy_arp220/dim_arp220,color='r', label='z=1')\n",
    "plt.legend()\n",
    "plt.xscale('log'); plt.yscale('log')\n",
    "plt.xlabel('$\\\\lambda$ [$\\\\mu m$]')\n",
    "plt.ylabel('S$_{\\\\nu}$ [mJy]')"
   ]
  },
  {
   "cell_type": "code",
   "execution_count": 65,
   "id": "c1c84042",
   "metadata": {},
   "outputs": [
    {
     "data": {
      "text/plain": [
       "Text(0,0.5,'S$_{\\\\nu}$ [mJy]')"
      ]
     },
     "execution_count": 65,
     "metadata": {},
     "output_type": "execute_result"
    },
    {
     "data": {
      "image/png": "[encoded data removed]",
      "text/plain": [
       "<matplotlib.figure.Figure at 0x7fc7212191d0>"
      ]
     },
     "metadata": {},
     "output_type": "display_data"
    }
   ],
   "source": [
    "# now write a for loop to make this plot for a list of z's\n",
    "zs = [0.01, 0.1, 0.5, 1., 3., 6.]\n",
    "\n",
    "for z in zs: \n",
    "    dim_arp220 = (WMAP9.luminosity_distance(z).value/DLcom)**2. * ((1+zcom)/(1.+z))\n",
    "    plt.plot(um_arp220*(1.+z), mjy_arp220/dim_arp220, label='z = '+str(z))\n",
    "\n",
    "plt.legend()\n",
    "plt.xscale('log'); plt.yscale('log')\n",
    "plt.xlabel('$\\\\lambda$ [$\\\\mu m$]')\n",
    "plt.ylabel('S$_{\\\\nu}$ [mJy]')"
   ]
  },
  {
   "cell_type": "markdown",
   "id": "998fd667",
   "metadata": {},
   "source": [
    "You should notice something interesting happening around ~1 mm for 0.5 < z < 6.0.  What do you think is happening?\n",
    "\n",
    "Write some code to get the flux at 1 mm for the Arp220 SED without redshifting.  "
   ]
  },
  {
   "cell_type": "code",
   "execution_count": 66,
   "id": "8d029081",
   "metadata": {},
   "outputs": [
    {
     "data": {
      "text/plain": [
       "0.2748935612713075"
      ]
     },
     "execution_count": 66,
     "metadata": {},
     "output_type": "execute_result"
    }
   ],
   "source": [
    "mjy_arp220[np.abs(um_arp220 - 1000.).argmin()]"
   ]
  },
  {
   "cell_type": "code",
   "execution_count": 67,
   "id": "ef9d0d4d",
   "metadata": {},
   "outputs": [
    {
     "name": "stdout",
     "output_type": "stream",
     "text": [
      "for z = 1, we get a flux of:  0.00021556077477915894  mJy\n",
      "for z = 6, we get a flux of:  0.0002160620476054766  mJy\n"
     ]
    }
   ],
   "source": [
    "# now, since you know how to redshift and how to get the flux at a particular point, compare the flux at 1 mm for \n",
    "# z = 1 and z = 6.  What do you notice? \n",
    "\n",
    "def GetFlux(um_val, z): \n",
    "    redshifted_lambda = um_arp220*(1.+z)\n",
    "    dim_arp220 = (WMAP9.luminosity_distance(z).value/WMAP9.luminosity_distance(0.01).value)**2. * ((1.01)/(1.+z))\n",
    "    redshifted_flux = mjy_arp220/dim_arp220\n",
    "    return redshifted_flux[np.abs(redshifted_lambda - um_val).argmin()]\n",
    "\n",
    "print('for z = 1, we get a flux of: ', GetFlux(1000, 1), ' mJy')\n",
    "print('for z = 6, we get a flux of: ', GetFlux(1000, 6), ' mJy')"
   ]
  },
  {
   "cell_type": "code",
   "execution_count": 68,
   "id": "c433d279",
   "metadata": {},
   "outputs": [
    {
     "name": "stdout",
     "output_type": "stream",
     "text": [
      "for z = 1, we get a flux of:  6.596115270661549e-08  mJy\n",
      "for z = 6, we get a flux of:  5.338848961887476e-12  mJy\n"
     ]
    }
   ],
   "source": [
    "# compare this to some poor optical astronomer observing at 500 nm \n",
    "# Do you think they will be able to see anything?\n",
    "print('for z = 1, we get a flux of: ', GetFlux(0.5, 1), ' mJy')\n",
    "print('for z = 6, we get a flux of: ', GetFlux(0.5, 6), ' mJy')"
   ]
  }
 ],
 "metadata": {
  "kernelspec": {
   "display_name": "Python 3",
   "language": "python",
   "name": "python3"
  },
  "language_info": {
   "codemirror_mode": {
    "name": "ipython",
    "version": 3
   },
   "file_extension": ".py",
   "mimetype": "text/x-python",
   "name": "python",
   "nbconvert_exporter": "python",
   "pygments_lexer": "ipython3",
   "version": "3.6.13"
  }
 },
 "nbformat": 4,
 "nbformat_minor": 5
}
