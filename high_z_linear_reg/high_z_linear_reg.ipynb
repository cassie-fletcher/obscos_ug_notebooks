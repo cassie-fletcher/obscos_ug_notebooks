{
 "cells": [
  {
   "cell_type": "markdown",
   "id": "8879c2e7",
   "metadata": {},
   "source": [
    "# High-z color versus redshift\n",
    "\n",
    "This is a notebook to compare certain values of flux (ratios of flux are also known as colors) and redshift.  By the end of the notebook, you should be able to make a simple version of Fig. 7 from Reuter+2020 and will hopefully understand:\n",
    "1. How to make a scatter plot with error bars\n",
    "2. How to fit a linear function to data\n",
    "\n",
    "Once we learn how to fit a line, we'll get a little fancier and use the emcee package fit a line (mostly following the emcee tutorial here: https://emcee.readthedocs.io/en/stable/tutorials/line/).  This is absolutely overkill for our purposes, but it will give us a nice way to visualize the uncertainty on our fit, which we are interested in.  "
   ]
  },
  {
   "cell_type": "code",
   "execution_count": 1,
   "id": "d83b0e76",
   "metadata": {},
   "outputs": [
    {
     "name": "stderr",
     "output_type": "stream",
     "text": [
      "Matplotlib created a temporary config/cache directory at /var/folders/45/sgc7fqmn1332vm6vq519l7b00000gt/T/matplotlib-brdzeusq because the default path (/Users/cassiereuter/.matplotlib) is not a writable directory; it is highly recommended to set the MPLCONFIGDIR environment variable to a writable directory, in particular to speed up the import of Matplotlib and to better support multiprocessing.\n"
     ]
    }
   ],
   "source": [
    "# in order to use a python library, you have to import it\n",
    "# this tells the notebook these are the packages you want to use\n",
    "# \n",
    "# these are some basic packages that are generally useful\n",
    "import numpy as np # some basic math functions \n",
    "import pandas as pd # we're going to use this for reading in files\n",
    "import matplotlib.pyplot as plt # for plotting\n",
    "%matplotlib inline"
   ]
  },
  {
   "cell_type": "code",
   "execution_count": 15,
   "id": "db1e2620",
   "metadata": {},
   "outputs": [],
   "source": [
    "# load in our two data sets, SPT and Herschel, using pandas.  \n",
    "# let's start with SPT\n",
    "# csv stands for comma separated values.  commas are typically the \n",
    "# delimiter, which is a fancy to way to say how the values are separated\n",
    "\n",
    "# spt smg photometry has historically been in a file called Flux MasterList\n",
    "# so the name is for historical reasons, honest\n",
    "fml = pd.read_csv('./dndz_tab_d1.txt', delim_whitespace=True,index_col=0, skiprows=[0,2]) \n",
    "\n",
    "# skiprows tells the read_csv function to skip both the 0th and 2nd line from the file (which are just comments \n",
    "# and units) but it's still reading the 1st row as the header, and our columns will have names\n",
    "\n",
    "# delim_whitespace tells the read_csv function how we've separated our values.  in this case, they're separated \n",
    "# by white space (I used more than one tab at times to make it human-readable, so delim_whitespace is super useful)\n",
    "\n",
    "# index col tells the read_csv function what our source names are, which is occasionally useful"
   ]
  },
  {
   "cell_type": "code",
   "execution_count": 16,
   "id": "86039fa6",
   "metadata": {},
   "outputs": [
    {
     "data": {
      "text/html": [
       "<div>\n",
       "<style scoped>\n",
       "    .dataframe tbody tr th:only-of-type {\n",
       "        vertical-align: middle;\n",
       "    }\n",
       "\n",
       "    .dataframe tbody tr th {\n",
       "        vertical-align: top;\n",
       "    }\n",
       "\n",
       "    .dataframe thead th {\n",
       "        text-align: right;\n",
       "    }\n",
       "</style>\n",
       "<table border=\"1\" class=\"dataframe\">\n",
       "  <thead>\n",
       "    <tr style=\"text-align: right;\">\n",
       "      <th></th>\n",
       "      <th>specz</th>\n",
       "      <th>S_3mm</th>\n",
       "      <th>err_3mm</th>\n",
       "      <th>S_2mm</th>\n",
       "      <th>err_2mm</th>\n",
       "      <th>S_1mm</th>\n",
       "      <th>err_1mm</th>\n",
       "      <th>S_870</th>\n",
       "      <th>err_870</th>\n",
       "      <th>S_500</th>\n",
       "      <th>err_500</th>\n",
       "      <th>S_350</th>\n",
       "      <th>err_350</th>\n",
       "      <th>S_250</th>\n",
       "      <th>err_250</th>\n",
       "      <th>S_160</th>\n",
       "      <th>err_160</th>\n",
       "      <th>S_100</th>\n",
       "      <th>err_100</th>\n",
       "    </tr>\n",
       "    <tr>\n",
       "      <th>#Source</th>\n",
       "      <th></th>\n",
       "      <th></th>\n",
       "      <th></th>\n",
       "      <th></th>\n",
       "      <th></th>\n",
       "      <th></th>\n",
       "      <th></th>\n",
       "      <th></th>\n",
       "      <th></th>\n",
       "      <th></th>\n",
       "      <th></th>\n",
       "      <th></th>\n",
       "      <th></th>\n",
       "      <th></th>\n",
       "      <th></th>\n",
       "      <th></th>\n",
       "      <th></th>\n",
       "      <th></th>\n",
       "      <th></th>\n",
       "    </tr>\n",
       "  </thead>\n",
       "  <tbody>\n",
       "    <tr>\n",
       "      <th>SPT0002-52</th>\n",
       "      <td>2.351</td>\n",
       "      <td>0.47</td>\n",
       "      <td>0.03</td>\n",
       "      <td>3.1</td>\n",
       "      <td>0.9</td>\n",
       "      <td>10.7</td>\n",
       "      <td>5.8</td>\n",
       "      <td>50.3</td>\n",
       "      <td>3.8</td>\n",
       "      <td>202.0</td>\n",
       "      <td>10.0</td>\n",
       "      <td>283.5</td>\n",
       "      <td>8.9</td>\n",
       "      <td>332.9</td>\n",
       "      <td>10.1</td>\n",
       "      <td>234.3</td>\n",
       "      <td>21.3</td>\n",
       "      <td>93.9</td>\n",
       "      <td>5.4</td>\n",
       "    </tr>\n",
       "    <tr>\n",
       "      <th>SPT0020-51</th>\n",
       "      <td>4.123</td>\n",
       "      <td>1.25</td>\n",
       "      <td>0.05</td>\n",
       "      <td>6.6</td>\n",
       "      <td>1.4</td>\n",
       "      <td>19.9</td>\n",
       "      <td>4.6</td>\n",
       "      <td>70.5</td>\n",
       "      <td>4.3</td>\n",
       "      <td>144.1</td>\n",
       "      <td>8.6</td>\n",
       "      <td>120.9</td>\n",
       "      <td>7.4</td>\n",
       "      <td>71.5</td>\n",
       "      <td>7.5</td>\n",
       "      <td>NaN</td>\n",
       "      <td>8.7</td>\n",
       "      <td>NaN</td>\n",
       "      <td>2.7</td>\n",
       "    </tr>\n",
       "    <tr>\n",
       "      <th>SPT0027-50</th>\n",
       "      <td>3.444</td>\n",
       "      <td>1.41</td>\n",
       "      <td>0.05</td>\n",
       "      <td>8.6</td>\n",
       "      <td>1.4</td>\n",
       "      <td>35.6</td>\n",
       "      <td>5.1</td>\n",
       "      <td>138.4</td>\n",
       "      <td>8.2</td>\n",
       "      <td>316.1</td>\n",
       "      <td>8.1</td>\n",
       "      <td>325.7</td>\n",
       "      <td>7.2</td>\n",
       "      <td>232.9</td>\n",
       "      <td>6.8</td>\n",
       "      <td>85.6</td>\n",
       "      <td>13.0</td>\n",
       "      <td>15.8</td>\n",
       "      <td>2.3</td>\n",
       "    </tr>\n",
       "    <tr>\n",
       "      <th>SPT0054-41</th>\n",
       "      <td>4.877</td>\n",
       "      <td>1.80</td>\n",
       "      <td>0.06</td>\n",
       "      <td>10.4</td>\n",
       "      <td>1.5</td>\n",
       "      <td>32.5</td>\n",
       "      <td>5.3</td>\n",
       "      <td>98.4</td>\n",
       "      <td>6.5</td>\n",
       "      <td>174.2</td>\n",
       "      <td>10.3</td>\n",
       "      <td>125.9</td>\n",
       "      <td>8.9</td>\n",
       "      <td>79.0</td>\n",
       "      <td>9.3</td>\n",
       "      <td>NaN</td>\n",
       "      <td>NaN</td>\n",
       "      <td>NaN</td>\n",
       "      <td>NaN</td>\n",
       "    </tr>\n",
       "    <tr>\n",
       "      <th>SPT0103-45</th>\n",
       "      <td>3.090</td>\n",
       "      <td>1.46</td>\n",
       "      <td>0.23</td>\n",
       "      <td>8.2</td>\n",
       "      <td>1.5</td>\n",
       "      <td>30.6</td>\n",
       "      <td>5.2</td>\n",
       "      <td>124.5</td>\n",
       "      <td>6.1</td>\n",
       "      <td>231.6</td>\n",
       "      <td>7.6</td>\n",
       "      <td>213.3</td>\n",
       "      <td>6.8</td>\n",
       "      <td>133.2</td>\n",
       "      <td>10.8</td>\n",
       "      <td>NaN</td>\n",
       "      <td>15.7</td>\n",
       "      <td>NaN</td>\n",
       "      <td>4.4</td>\n",
       "    </tr>\n",
       "  </tbody>\n",
       "</table>\n",
       "</div>"
      ],
      "text/plain": [
       "            specz  S_3mm  err_3mm  S_2mm  err_2mm  S_1mm  err_1mm  S_870  \\\n",
       "#Source                                                                    \n",
       "SPT0002-52  2.351   0.47     0.03    3.1      0.9   10.7      5.8   50.3   \n",
       "SPT0020-51  4.123   1.25     0.05    6.6      1.4   19.9      4.6   70.5   \n",
       "SPT0027-50  3.444   1.41     0.05    8.6      1.4   35.6      5.1  138.4   \n",
       "SPT0054-41  4.877   1.80     0.06   10.4      1.5   32.5      5.3   98.4   \n",
       "SPT0103-45  3.090   1.46     0.23    8.2      1.5   30.6      5.2  124.5   \n",
       "\n",
       "            err_870  S_500  err_500  S_350  err_350  S_250  err_250  S_160  \\\n",
       "#Source                                                                      \n",
       "SPT0002-52      3.8  202.0     10.0  283.5      8.9  332.9     10.1  234.3   \n",
       "SPT0020-51      4.3  144.1      8.6  120.9      7.4   71.5      7.5    NaN   \n",
       "SPT0027-50      8.2  316.1      8.1  325.7      7.2  232.9      6.8   85.6   \n",
       "SPT0054-41      6.5  174.2     10.3  125.9      8.9   79.0      9.3    NaN   \n",
       "SPT0103-45      6.1  231.6      7.6  213.3      6.8  133.2     10.8    NaN   \n",
       "\n",
       "            err_160  S_100  err_100  \n",
       "#Source                              \n",
       "SPT0002-52     21.3   93.9      5.4  \n",
       "SPT0020-51      8.7    NaN      2.7  \n",
       "SPT0027-50     13.0   15.8      2.3  \n",
       "SPT0054-41      NaN    NaN      NaN  \n",
       "SPT0103-45     15.7    NaN      4.4  "
      ]
     },
     "execution_count": 16,
     "metadata": {},
     "output_type": "execute_result"
    }
   ],
   "source": [
    "# let's take a minute and look at the structure of this thing we read in\n",
    "# we will use the head method to look at the first 5 columns, and check if they match the text file\n",
    "fml.head(5)"
   ]
  },
  {
   "cell_type": "markdown",
   "id": "d43b7cc6",
   "metadata": {},
   "source": [
    "Cool, this looks like our file.  Now let's practice a bit with pandas.  \n",
    "\n",
    "Write a command that will get all $S_{870 um}$ values (your answer should be an array)"
   ]
  },
  {
   "cell_type": "code",
   "execution_count": 17,
   "id": "e7f78137",
   "metadata": {},
   "outputs": [
    {
     "data": {
      "text/plain": [
       "array([ 50.3,  70.5, 138.4,  98.4, 124.5, 145.3, 109.2,  36.1,  79.4,\n",
       "       143.5, 109. ,  68.7,  83.3,  62.7, 174.2, 109.4,  66.3,  84.5,\n",
       "        61.2,  56.8,  36.9, 104.1,  67.1,  89.2, 130.8,  51.5, 199.9,\n",
       "        39.5, 108.4,  60.3,  74.6,  79.8,  42.8,  25.5,  52.6,  61.4,\n",
       "        75. ,  33.2,  56. ,  27.4, 118.3, 117.5, 125.2,  86.9,  53. ,\n",
       "       138.7,  74. ,  48.3,  43.3,  55.8, 150.3,  65.2, 125.2, 172.1,\n",
       "        64.5, 131.3,  54.1,  61.9,  77.5,  87.4,  57.9, 101.2,  54.5,\n",
       "        61.3,  96.5,  63.2,  60.2,  59.7,  44.1,  30.5,  38.1, 168. ,\n",
       "        35.6,  34.2,  42.6,  37.3,  56.5,  34.6,  40.6,  66. ,  53.4])"
      ]
     },
     "execution_count": 17,
     "metadata": {},
     "output_type": "execute_result"
    }
   ],
   "source": [
    "fml['S_870'].values"
   ]
  },
  {
   "cell_type": "markdown",
   "id": "69b980f2",
   "metadata": {},
   "source": [
    "Now write a command that will get all the photometry for SPT0054-41"
   ]
  },
  {
   "cell_type": "code",
   "execution_count": 19,
   "id": "647d1792",
   "metadata": {},
   "outputs": [
    {
     "data": {
      "text/plain": [
       "specz        4.877\n",
       "S_3mm        1.800\n",
       "err_3mm      0.060\n",
       "S_2mm       10.400\n",
       "err_2mm      1.500\n",
       "S_1mm       32.500\n",
       "err_1mm      5.300\n",
       "S_870       98.400\n",
       "err_870      6.500\n",
       "S_500      174.200\n",
       "err_500     10.300\n",
       "S_350      125.900\n",
       "err_350      8.900\n",
       "S_250       79.000\n",
       "err_250      9.300\n",
       "S_160          NaN\n",
       "err_160        NaN\n",
       "S_100          NaN\n",
       "err_100        NaN\n",
       "Name: SPT0054-41, dtype: float64"
      ]
     },
     "execution_count": 19,
     "metadata": {},
     "output_type": "execute_result"
    }
   ],
   "source": [
    "fml.loc['SPT0054-41']"
   ]
  },
  {
   "cell_type": "markdown",
   "id": "425f5ec9",
   "metadata": {},
   "source": [
    "Now, what is the flux at 500 um for SPT0054-41?  \n",
    "\n",
    "Write some python that will answer the question for you.  "
   ]
  },
  {
   "cell_type": "code",
   "execution_count": 20,
   "id": "2c5f25e8",
   "metadata": {},
   "outputs": [
    {
     "data": {
      "text/plain": [
       "174.2"
      ]
     },
     "execution_count": 20,
     "metadata": {},
     "output_type": "execute_result"
    }
   ],
   "source": [
    "fml.loc['SPT0054-41', 'S_500']"
   ]
  },
  {
   "cell_type": "markdown",
   "id": "60dfa987",
   "metadata": {},
   "source": [
    "Now let's make a quick plot of 350 um flux versus redshift (which is in the specz column here).  Use matplotlib's errorbar function to draw error bars on your points and change your y-axis to logscale.\n",
    "\n",
    "Don't forget to label your axes!"
   ]
  },
  {
   "cell_type": "code",
   "execution_count": 49,
   "id": "6411585f",
   "metadata": {},
   "outputs": [
    {
     "data": {
      "image/png": "[encoded data removed]",
      "text/plain": [
       "<Figure size 432x288 with 1 Axes>"
      ]
     },
     "metadata": {
      "needs_background": "light"
     },
     "output_type": "display_data"
    }
   ],
   "source": [
    "fig = plt.figure()\n",
    "plt.errorbar(fml['specz'].values, fml['S_350'].values, yerr=fml['err_350'], ls='none', marker='o')\n",
    "plt.yscale('log')\n",
    "plt.xlabel(r'z$_{spec}$')\n",
    "plt.ylabel(r'S$_{350 um}$ [mJy]')\n",
    "plt.show()"
   ]
  },
  {
   "cell_type": "code",
   "execution_count": 47,
   "id": "602bee85",
   "metadata": {},
   "outputs": [],
   "source": [
    "# Let's do the same thing for Herschel.  \n",
    "\n",
    "# we can open this file up in your favorite text editor and see that first line is the header,\n",
    "# and the delimiter is a comma\n",
    "\n",
    "# write a pandas command that will read the herschel file\n",
    "# usually the # means a comment, and is commonly used to comment out (i.e. ignore) data we don't want to use.  \n",
    "# make sure to not include this data!\n",
    "spire = pd.read_csv('./photometry_published_lensed_spire.txt', sep=',', index_col=0, comment='#', header=0)"
   ]
  },
  {
   "cell_type": "code",
   "execution_count": 48,
   "id": "9c935f8a",
   "metadata": {},
   "outputs": [
    {
     "data": {
      "text/html": [
       "<div>\n",
       "<style scoped>\n",
       "    .dataframe tbody tr th:only-of-type {\n",
       "        vertical-align: middle;\n",
       "    }\n",
       "\n",
       "    .dataframe tbody tr th {\n",
       "        vertical-align: top;\n",
       "    }\n",
       "\n",
       "    .dataframe thead th {\n",
       "        text-align: right;\n",
       "    }\n",
       "</style>\n",
       "<table border=\"1\" class=\"dataframe\">\n",
       "  <thead>\n",
       "    <tr style=\"text-align: right;\">\n",
       "      <th></th>\n",
       "      <th>z</th>\n",
       "      <th>s100</th>\n",
       "      <th>e100</th>\n",
       "      <th>s160</th>\n",
       "      <th>e160</th>\n",
       "      <th>s250</th>\n",
       "      <th>e250</th>\n",
       "      <th>s350</th>\n",
       "      <th>e350</th>\n",
       "      <th>s500</th>\n",
       "      <th>e500</th>\n",
       "      <th>s880</th>\n",
       "      <th>e880</th>\n",
       "      <th>s1200</th>\n",
       "      <th>e1200</th>\n",
       "      <th>ref</th>\n",
       "    </tr>\n",
       "    <tr>\n",
       "      <th>ID</th>\n",
       "      <th></th>\n",
       "      <th></th>\n",
       "      <th></th>\n",
       "      <th></th>\n",
       "      <th></th>\n",
       "      <th></th>\n",
       "      <th></th>\n",
       "      <th></th>\n",
       "      <th></th>\n",
       "      <th></th>\n",
       "      <th></th>\n",
       "      <th></th>\n",
       "      <th></th>\n",
       "      <th></th>\n",
       "      <th></th>\n",
       "      <th></th>\n",
       "    </tr>\n",
       "  </thead>\n",
       "  <tbody>\n",
       "    <tr>\n",
       "      <th>SDP9</th>\n",
       "      <td>1.5770</td>\n",
       "      <td>208.0</td>\n",
       "      <td>34.0</td>\n",
       "      <td>416.0</td>\n",
       "      <td>94.0</td>\n",
       "      <td>471.0</td>\n",
       "      <td>7.0</td>\n",
       "      <td>343.0</td>\n",
       "      <td>8.0</td>\n",
       "      <td>181.0</td>\n",
       "      <td>9.0</td>\n",
       "      <td>24.8</td>\n",
       "      <td>3.3</td>\n",
       "      <td>6.9</td>\n",
       "      <td>1.2</td>\n",
       "      <td>Negrello2010</td>\n",
       "    </tr>\n",
       "    <tr>\n",
       "      <th>SDP11</th>\n",
       "      <td>1.7860</td>\n",
       "      <td>NaN</td>\n",
       "      <td>NaN</td>\n",
       "      <td>397.0</td>\n",
       "      <td>90.0</td>\n",
       "      <td>417.0</td>\n",
       "      <td>6.0</td>\n",
       "      <td>378.0</td>\n",
       "      <td>7.0</td>\n",
       "      <td>232.0</td>\n",
       "      <td>8.0</td>\n",
       "      <td>29.2</td>\n",
       "      <td>2.7</td>\n",
       "      <td>12.2</td>\n",
       "      <td>1.2</td>\n",
       "      <td>Negrello2010</td>\n",
       "    </tr>\n",
       "    <tr>\n",
       "      <th>SDP17</th>\n",
       "      <td>2.3051</td>\n",
       "      <td>NaN</td>\n",
       "      <td>NaN</td>\n",
       "      <td>182.0</td>\n",
       "      <td>56.0</td>\n",
       "      <td>347.0</td>\n",
       "      <td>7.0</td>\n",
       "      <td>339.0</td>\n",
       "      <td>8.0</td>\n",
       "      <td>219.0</td>\n",
       "      <td>9.0</td>\n",
       "      <td>56.6</td>\n",
       "      <td>4.1</td>\n",
       "      <td>15.3</td>\n",
       "      <td>1.3</td>\n",
       "      <td>Omont2011</td>\n",
       "    </tr>\n",
       "    <tr>\n",
       "      <th>SDP81</th>\n",
       "      <td>3.0420</td>\n",
       "      <td>NaN</td>\n",
       "      <td>NaN</td>\n",
       "      <td>NaN</td>\n",
       "      <td>NaN</td>\n",
       "      <td>138.0</td>\n",
       "      <td>7.0</td>\n",
       "      <td>199.0</td>\n",
       "      <td>8.0</td>\n",
       "      <td>174.0</td>\n",
       "      <td>9.0</td>\n",
       "      <td>76.4</td>\n",
       "      <td>3.8</td>\n",
       "      <td>19.6</td>\n",
       "      <td>0.9</td>\n",
       "      <td>Negrello2010</td>\n",
       "    </tr>\n",
       "    <tr>\n",
       "      <th>SDP130</th>\n",
       "      <td>2.6256</td>\n",
       "      <td>NaN</td>\n",
       "      <td>NaN</td>\n",
       "      <td>NaN</td>\n",
       "      <td>NaN</td>\n",
       "      <td>116.0</td>\n",
       "      <td>6.0</td>\n",
       "      <td>140.0</td>\n",
       "      <td>7.0</td>\n",
       "      <td>108.0</td>\n",
       "      <td>8.0</td>\n",
       "      <td>39.3</td>\n",
       "      <td>2.3</td>\n",
       "      <td>11.2</td>\n",
       "      <td>1.2</td>\n",
       "      <td>Negrello2010</td>\n",
       "    </tr>\n",
       "  </tbody>\n",
       "</table>\n",
       "</div>"
      ],
      "text/plain": [
       "             z   s100  e100   s160  e160   s250  e250   s350  e350   s500  \\\n",
       "ID                                                                          \n",
       "SDP9    1.5770  208.0  34.0  416.0  94.0  471.0   7.0  343.0   8.0  181.0   \n",
       "SDP11   1.7860    NaN   NaN  397.0  90.0  417.0   6.0  378.0   7.0  232.0   \n",
       "SDP17   2.3051    NaN   NaN  182.0  56.0  347.0   7.0  339.0   8.0  219.0   \n",
       "SDP81   3.0420    NaN   NaN    NaN   NaN  138.0   7.0  199.0   8.0  174.0   \n",
       "SDP130  2.6256    NaN   NaN    NaN   NaN  116.0   6.0  140.0   7.0  108.0   \n",
       "\n",
       "        e500  s880  e880  s1200  e1200           ref  \n",
       "ID                                                    \n",
       "SDP9     9.0  24.8   3.3    6.9    1.2  Negrello2010  \n",
       "SDP11    8.0  29.2   2.7   12.2    1.2  Negrello2010  \n",
       "SDP17    9.0  56.6   4.1   15.3    1.3     Omont2011  \n",
       "SDP81    9.0  76.4   3.8   19.6    0.9  Negrello2010  \n",
       "SDP130   8.0  39.3   2.3   11.2    1.2  Negrello2010  "
      ]
     },
     "execution_count": 48,
     "metadata": {},
     "output_type": "execute_result"
    }
   ],
   "source": [
    "# take a minute to confirm you did this correctly\n",
    "spire.head(5)"
   ]
  },
  {
   "cell_type": "markdown",
   "id": "12a01d8f",
   "metadata": {},
   "source": [
    "What are the names of the each of the Herschel sources?\n",
    "\n",
    "Write some python code that will give the answer.  "
   ]
  },
  {
   "cell_type": "code",
   "execution_count": 45,
   "id": "4c11a505",
   "metadata": {},
   "outputs": [
    {
     "data": {
      "text/plain": [
       "Index(['SDP9', 'SDP11', 'SDP17', 'SDP81', 'SDP130', 'SDP141', 'HLock01',\n",
       "       'Eyelash', 'Bullet', 'HLS', 'Planck', 'HBootes01', 'HBootes02',\n",
       "       'HBootes03', 'HLock03', 'HXMM01', 'HXMM02', 'HXMM05', 'FLS3',\n",
       "       'G09v1.97', 'G09v1.124', 'G09v1.40', 'G09v1.326', 'G12v2.43',\n",
       "       'G12v2.30', 'NCv1.268', 'NCv1.143', 'NBv1.43', 'NAv1.195', 'NAv1.177',\n",
       "       'NBv1.78', 'NAv1.144', 'NAv1.56', 'G15v2.235'],\n",
       "      dtype='object', name='ID')"
      ]
     },
     "execution_count": 45,
     "metadata": {},
     "output_type": "execute_result"
    }
   ],
   "source": [
    "spire.index"
   ]
  },
  {
   "cell_type": "markdown",
   "id": "cddced8c",
   "metadata": {},
   "source": [
    "Great, let's add the Herschel data to our previous plot, and make sure to label which data is which"
   ]
  },
  {
   "cell_type": "code",
   "execution_count": 53,
   "id": "3240e4a5",
   "metadata": {},
   "outputs": [
    {
     "data": {
      "image/png": "[encoded data removed]",
      "text/plain": [
       "<Figure size 432x288 with 1 Axes>"
      ]
     },
     "metadata": {
      "needs_background": "light"
     },
     "output_type": "display_data"
    }
   ],
   "source": [
    "fig = plt.figure()\n",
    "plt.errorbar(fml['specz'].values, fml['S_350'].values, yerr=fml['err_350'].values, ls='none', marker='o', color='tab:red', label='SPT SMG')\n",
    "plt.errorbar(spire['z'].values, spire['s350'].values, yerr=spire['e350'].values,  ls='none', marker='s', color='tab:blue', label='Herschel')\n",
    "plt.legend()\n",
    "plt.yscale('log')\n",
    "plt.xlabel(r'z$_{spec}$')\n",
    "plt.ylabel(r'S$_{350 um}$ [mJy]')\n",
    "plt.show()"
   ]
  },
  {
   "cell_type": "markdown",
   "id": "e83515ba",
   "metadata": {
    "collapsed": true
   },
   "source": [
    "However, we are not actually interested in the 350 um flux, we actually want the color S$_{350um}$ / S$_{870um}$.  \n",
    "\n",
    "Plot S$_{350um}$ / S$_{870um}$ versus z, and make sure to propagate your errors correctly!\n",
    "\n",
    "Hint: recall that if you have multiplication or division, your error will be related to the relative error.  That is, if you have $z=x/y$ and the error on $x$ is $\\Delta x$, the error on $y$ is $\\Delta y$ and the error on $z$ is $\\Delta z$, these terms are related through the following: \n",
    "\n",
    "$$\n",
    "    \\frac{\\Delta z}{z} = \\sqrt{ \\left( \\frac{\\Delta x}{x} \\right)^2 + \\left( \\frac{\\Delta y}{y} \\right) ^2 }\n",
    "$$\n",
    "\n",
    "Another hint: 880 um is close enough to 870 um..."
   ]
  },
  {
   "cell_type": "code",
   "execution_count": 65,
   "id": "987ab8e0",
   "metadata": {},
   "outputs": [
    {
     "data": {
      "image/png": "[encoded data removed]",
      "text/plain": [
       "<Figure size 432x288 with 1 Axes>"
      ]
     },
     "metadata": {
      "needs_background": "light"
     },
     "output_type": "display_data"
    }
   ],
   "source": [
    "fig = plt.figure()\n",
    "\n",
    "spt_err = np.sqrt((fml['err_870'].values/fml['S_870'].values)**2. + (fml['err_350'].values/fml['S_350'].values)**2.)\n",
    "spt_err *= fml['S_350'].values/fml['S_870'].values\n",
    "plt.errorbar(fml['specz'].values, fml['S_350'].values/fml['S_870'].values, yerr=spt_err, ls='none', marker='o', color='tab:red', label='SPT SMG')\n",
    "\n",
    "herschel_err = np.sqrt((spire['e880'].values/spire['s880'].values)**2. + (spire['e350'].values/spire['s350'].values)**2.)\n",
    "herschel_err *= spire['s350'].values/spire['s880'].values\n",
    "plt.errorbar(spire['z'].values, spire['s350'].values/spire['s880'].values, yerr=herschel_err,  ls='none', marker='s', color='tab:blue', label='Herschel')\n",
    "\n",
    "plt.legend()\n",
    "plt.yscale('log')\n",
    "plt.xlabel(r'z$_{spec}$')\n",
    "plt.ylabel(r'S$_{870 um}$ / S$_{350 um}$ ')\n",
    "plt.show()"
   ]
  },
  {
   "cell_type": "markdown",
   "id": "8982fae0",
   "metadata": {},
   "source": [
    "Congratulations, you have plotted all of the data in Fig. 7 of Reuter+20!  \n",
    "\n",
    "You'll notice that the color S$_{350um}$ / S$_{870um}$ looks very correlated with redshift.  Spectroscopic redshifts are really difficult to find, and require a lot of observing time.  Photometry (and thus, the color) is relatively easy to obtain and may already exist in a catalog somewhere.  So, we would like to be able to use the S$_{350um}$ / S$_{870um}$ color to predict the redshift.  \n",
    "\n",
    "In order to do that, we'll have to find a function that will map color to redshift.  This data looks pretty much like a line, so we'll start by fitting a linear function.  \n",
    "\n",
    "In order to determine the linear function that is the **best fit** we will have to determine how closely the data fits our line.  A common way to do this is by using the **least squares method**, which calculates how close your points are to your line, and is given by the following: \n",
    "\n",
    "$$\n",
    "    \\sum^{N}_{i=0} \\frac{(y_{actual} - y_{predicted})^2}{\\Delta y ^2}\n",
    "$$\n",
    "\n",
    "where you have $N$ data points, x = $x_0$, $x_1$, ... $x_N$ and y = $y_0$, $y_1$, ... $y_N$ with some error in y given by $\\Delta y$ = $\\Delta y_0$, $\\Delta y_1$, ... $\\Delta y_N$.  \n",
    "\n",
    "The details of linear regression and least squares are really well described in many other places (e.g. wikipedia) and the details aren't _crucial_ to actually fit a line, since lots of packages will do that for you.  \n",
    "\n",
    "However, it's not difficult to get an intuitive sense of _what_ this function does.  Here, we've plotted a line, defined by \n",
    "\n",
    "$$ \n",
    "    y = m * x + b\n",
    "$$\n",
    "\n",
    "where y is log(S$_{350um}$ / S$_{870um}$) and x is z$_{spec}$.  Play around with the sliders to see how your least squares parameter changes.  \n",
    "\n",
    "What would you say a \"good\" fit is, and what is your least squares parameter when the fit is good?  "
   ]
  },
  {
   "cell_type": "code",
   "execution_count": 82,
   "id": "828f64af",
   "metadata": {},
   "outputs": [
    {
     "data": {
      "application/vnd.jupyter.widget-view+json": {
       "model_id": "52c147edee454dc7afa0f772f89de257",
       "version_major": 2,
       "version_minor": 0
      },
      "text/plain": [
       "interactive(children=(FloatSlider(value=-0.2, description='m', max=0.2, min=-0.6000000000000001), FloatSlider(…"
      ]
     },
     "metadata": {},
     "output_type": "display_data"
    }
   ],
   "source": [
    "def line(x,m,b):\n",
    "    return m*x+b\n",
    "\n",
    "def mse(preds, acts, err): return (((preds - acts)/err)**2).mean()\n",
    "\n",
    "from ipywidgets import interact\n",
    "@interact(m=-0.2, b=1.)\n",
    "def plot_line(m,b):\n",
    "    spt_err = np.sqrt((fml['err_870'].values/fml['S_870'].values)**2. + (fml['err_350'].values/fml['S_350'].values)**2.)\n",
    "    spt_err *= fml['S_350'].values/fml['S_870'].values\n",
    "    plt.errorbar(fml['specz'].values, fml['S_350'].values/fml['S_870'].values, yerr=spt_err, ls='none', marker='o', color='tab:red', label='SPT SMG')\n",
    "\n",
    "    herschel_err = np.sqrt((spire['e880'].values/spire['s880'].values)**2. + (spire['e350'].values/spire['s350'].values)**2.)\n",
    "    herschel_err *= spire['s350'].values/spire['s880'].values\n",
    "    plt.errorbar(spire['z'].values, spire['s350'].values/spire['s880'].values, yerr=herschel_err,  ls='none', marker='s', color='tab:blue', label='Herschel')\n",
    "    \n",
    "    plt.legend()\n",
    "    plt.yscale('log')\n",
    "    plt.xlabel(r'z$_{spec}$')\n",
    "    plt.ylabel(r'S$_{870 um}$ / S$_{350 um}$ ')\n",
    "    plt.xlim(1., 7.)\n",
    "    plt.ylim(0.1, 20.)\n",
    "    \n",
    "    # put both herschel and spt in one big list in order to calculate least squares param\n",
    "    all_z = np.append(fml['specz'].values, spire['z'].values)\n",
    "    all_color = np.append(fml['S_350'].values/fml['S_870'].values, spire['s350'].values/spire['s880'].values)\n",
    "    all_err = np.append(spt_err, herschel_err)\n",
    "    \n",
    "    loss = mse(10**line(all_z, m, b), all_color, all_err)\n",
    "    \n",
    "    x = np.linspace(0., 10., 100)\n",
    "    plt.plot(x, 10**line(x, m, b))\n",
    "    plt.title(f\"Least squares: {loss:.2f}\")\n",
    "    \n"
   ]
  }
 ],
 "metadata": {
  "kernelspec": {
   "display_name": "Python 3",
   "language": "python",
   "name": "python3"
  },
  "language_info": {
   "codemirror_mode": {
    "name": "ipython",
    "version": 3
   },
   "file_extension": ".py",
   "mimetype": "text/x-python",
   "name": "python",
   "nbconvert_exporter": "python",
   "pygments_lexer": "ipython3",
   "version": "3.6.13"
  }
 },
 "nbformat": 4,
 "nbformat_minor": 5
}
